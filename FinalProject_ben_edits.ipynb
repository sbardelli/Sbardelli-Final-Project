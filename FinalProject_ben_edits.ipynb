{
 "cells": [
  {
   "cell_type": "markdown",
   "metadata": {},
   "source": [
    "Work4WalmarT\n",
    "\n",
    "TripType - a categorical id representing the type of shopping trip the customer made. This is the ground truth that you are predicting. TripType_999 is an \"other\" category.\n",
    "\n",
    "VisitNumber - an id corresponding to a single trip by a single customer\n",
    "\n",
    "Weekday - the weekday of the trip\n",
    "\n",
    "Upc - the UPC number of the product purchased\n",
    "\n",
    "ScanCount - the number of the given item that was purchased. A negative value indicates a product return.\n",
    "\n",
    "DepartmentDescription - a high-level description of the item's department\n",
    "\n",
    "FinelineNumber - a more refined category for each of the products, created by Walmart"
   ]
  },
  {
   "cell_type": "code",
   "execution_count": 1,
   "metadata": {
    "collapsed": false,
    "scrolled": false
   },
   "outputs": [],
   "source": [
    "import pandas as pd\n",
    "import numpy as np"
   ]
  },
  {
   "cell_type": "code",
   "execution_count": 2,
   "metadata": {
    "collapsed": false
   },
   "outputs": [],
   "source": [
    "df = pd.read_csv('train.csv', dtype={'departmentnumber':int})"
   ]
  },
  {
   "cell_type": "code",
   "execution_count": 3,
   "metadata": {
    "collapsed": false
   },
   "outputs": [
    {
     "name": "stdout",
     "output_type": "stream",
     "text": [
      "<class 'pandas.core.frame.DataFrame'>\n",
      "Int64Index: 647054 entries, 0 to 647053\n",
      "Data columns (total 7 columns):\n",
      "TripType                 647054 non-null int64\n",
      "VisitNumber              647054 non-null int64\n",
      "Weekday                  647054 non-null object\n",
      "Upc                      642925 non-null float64\n",
      "ScanCount                647054 non-null int64\n",
      "DepartmentDescription    645693 non-null object\n",
      "FinelineNumber           642925 non-null float64\n",
      "dtypes: float64(2), int64(3), object(2)\n",
      "memory usage: 39.5+ MB\n"
     ]
    }
   ],
   "source": [
    "# Get basic information about all your columns and their datatypes\n",
    "df.info()"
   ]
  },
  {
   "cell_type": "code",
   "execution_count": 4,
   "metadata": {
    "collapsed": false
   },
   "outputs": [
    {
     "data": {
      "text/html": [
       "<div>\n",
       "<table border=\"1\" class=\"dataframe\">\n",
       "  <thead>\n",
       "    <tr style=\"text-align: right;\">\n",
       "      <th></th>\n",
       "      <th>TripType</th>\n",
       "      <th>VisitNumber</th>\n",
       "      <th>Weekday</th>\n",
       "      <th>Upc</th>\n",
       "      <th>ScanCount</th>\n",
       "      <th>DepartmentDescription</th>\n",
       "      <th>FinelineNumber</th>\n",
       "    </tr>\n",
       "  </thead>\n",
       "  <tbody>\n",
       "    <tr>\n",
       "      <th>0</th>\n",
       "      <td>999</td>\n",
       "      <td>5</td>\n",
       "      <td>Friday</td>\n",
       "      <td>68113152929</td>\n",
       "      <td>-1</td>\n",
       "      <td>FINANCIAL SERVICES</td>\n",
       "      <td>1000</td>\n",
       "    </tr>\n",
       "    <tr>\n",
       "      <th>1</th>\n",
       "      <td>30</td>\n",
       "      <td>7</td>\n",
       "      <td>Friday</td>\n",
       "      <td>60538815980</td>\n",
       "      <td>1</td>\n",
       "      <td>SHOES</td>\n",
       "      <td>8931</td>\n",
       "    </tr>\n",
       "    <tr>\n",
       "      <th>2</th>\n",
       "      <td>30</td>\n",
       "      <td>7</td>\n",
       "      <td>Friday</td>\n",
       "      <td>7410811099</td>\n",
       "      <td>1</td>\n",
       "      <td>PERSONAL CARE</td>\n",
       "      <td>4504</td>\n",
       "    </tr>\n",
       "    <tr>\n",
       "      <th>3</th>\n",
       "      <td>26</td>\n",
       "      <td>8</td>\n",
       "      <td>Friday</td>\n",
       "      <td>2238403510</td>\n",
       "      <td>2</td>\n",
       "      <td>PAINT AND ACCESSORIES</td>\n",
       "      <td>3565</td>\n",
       "    </tr>\n",
       "    <tr>\n",
       "      <th>4</th>\n",
       "      <td>26</td>\n",
       "      <td>8</td>\n",
       "      <td>Friday</td>\n",
       "      <td>2006613744</td>\n",
       "      <td>2</td>\n",
       "      <td>PAINT AND ACCESSORIES</td>\n",
       "      <td>1017</td>\n",
       "    </tr>\n",
       "  </tbody>\n",
       "</table>\n",
       "</div>"
      ],
      "text/plain": [
       "   TripType  VisitNumber Weekday          Upc  ScanCount  \\\n",
       "0       999            5  Friday  68113152929         -1   \n",
       "1        30            7  Friday  60538815980          1   \n",
       "2        30            7  Friday   7410811099          1   \n",
       "3        26            8  Friday   2238403510          2   \n",
       "4        26            8  Friday   2006613744          2   \n",
       "\n",
       "   DepartmentDescription  FinelineNumber  \n",
       "0     FINANCIAL SERVICES            1000  \n",
       "1                  SHOES            8931  \n",
       "2          PERSONAL CARE            4504  \n",
       "3  PAINT AND ACCESSORIES            3565  \n",
       "4  PAINT AND ACCESSORIES            1017  "
      ]
     },
     "execution_count": 4,
     "metadata": {},
     "output_type": "execute_result"
    }
   ],
   "source": [
    "# Preview your data\n",
    "df.head()"
   ]
  },
  {
   "cell_type": "code",
   "execution_count": 5,
   "metadata": {
    "collapsed": false
   },
   "outputs": [],
   "source": [
    "df['FinelineNumber'] = df['FinelineNumber'].apply(lambda x: int(x) if pd.notnull(x) else x)"
   ]
  },
  {
   "cell_type": "code",
   "execution_count": 6,
   "metadata": {
    "collapsed": false
   },
   "outputs": [],
   "source": [
    "df['DepartmentNumber'] = df['DepartmentDescription'].map({'1-HR PHOTO':1,\n",
    "                                                                'ACCESSORIES':2,\n",
    "                                                                'AUTOMOTIVE':3,\n",
    "                                                                'BAKERY':4,\n",
    "                                                                'BATH AND SHOWER':5,\n",
    "                                                                'BEAUTY':6,\n",
    "                                                                'BEDDING':7,\n",
    "                                                                'BOOKS AND MAGAZINES':8,\n",
    "                                                                'BOYS WEAR':9,\n",
    "                                                                'BRAS & SHAPEWEAR':10,\n",
    "                                                                'CAMERAS AND SUPPLIES':11,\n",
    "                                                                'CANDY, TOBACCO, COOKIES':12,\n",
    "                                                                'CELEBRATION':13,\n",
    "                                                                'COMM BREAD':14,\n",
    "                                                                'CONCEPT STORES':15,\n",
    "                                                                'COOK AND DINE':16,\n",
    "                                                                'DAIRY':17,\n",
    "                                                                'DSD GROCERY':18,\n",
    "                                                                'ELECTRONICS':19,\n",
    "                                                                'FABRICS AND CRAFTS':20,\n",
    "                                                                'FINANCIAL SERVICES':21,\n",
    "                                                                'FROZEN FOODS':22,\n",
    "                                                                'FURNITURE':23,\n",
    "                                                                'GIRLS WEAR, 4-6X  AND 7-14':24,\n",
    "                                                                'GROCERY DRY GOODS':25,\n",
    "                                                                'HARDWARE':26,\n",
    "                                                                'HEALTH AND BEAUTY AIDS':27,\n",
    "                                                                'HOME DECOR':28,\n",
    "                                                                'HOME MANAGEMENT':29,\n",
    "                                                                'HORTICULTURE AND ACCESS':30,\n",
    "                                                                'HOUSEHOLD CHEMICALS/SUPP':31,\n",
    "                                                                'HOUSEHOLD PAPER GOODS':32,\n",
    "                                                                'IMPULSE MERCHANDISE':33,\n",
    "                                                                'INFANT APPAREL':34,\n",
    "                                                                'INFANT CONSUMABLE HARDLINES':35,\n",
    "                                                                'JEWELRY AND SUNGLASSES':36,\n",
    "                                                                'LADIES SOCKS':37,\n",
    "                                                                'LADIESWEAR':38,\n",
    "                                                                'LARGE HOUSEHOLD GOODS':39,\n",
    "                                                                'LAWN AND GARDEN':40,\n",
    "                                                                'LIQUOR,WINE,BEER':41,\n",
    "                                                                'MEAT - FRESH & FROZEN':42,\n",
    "                                                                'MEDIA AND GAMING':43,\n",
    "                                                                'MENS WEAR':44,\n",
    "                                                                'MENSWEAR':45,\n",
    "                                                                'NULL':46,\n",
    "                                                                'OFFICE SUPPLIES':47,\n",
    "                                                                'OPTICAL - FRAMES':48,\n",
    "                                                                'OPTICAL - LENSES':49,\n",
    "                                                                'OTHER DEPARTMENTS':50,\n",
    "                                                                'PAINT AND ACCESSORIES':51,\n",
    "                                                                'PERSONAL CARE':52,\n",
    "                                                                'PETS AND SUPPLIES':53,\n",
    "                                                                'PHARMACY OTC':54,\n",
    "                                                                'PHARMACY RX':55,\n",
    "                                                                'PLAYERS AND ELECTRONICS':56,\n",
    "                                                                'PLUS AND MATERNITY':57,\n",
    "                                                                'PRE PACKED DELI':58,\n",
    "                                                                'PRODUCE':59,\n",
    "                                                                'SEAFOOD':60,\n",
    "                                                                'SEASONAL':61,\n",
    "                                                                'SERVICE DELI':62,\n",
    "                                                                'SHEER HOSIERY':63,\n",
    "                                                                'SHOES':64,\n",
    "                                                                'SLEEPWEAR/FOUNDATIONS':65,\n",
    "                                                                'SPORTING GOODS':66,\n",
    "                                                                'SWIMWEAR/OUTERWEAR':67,\n",
    "                                                                'TOYS':68,\n",
    "                                                                'WIRELESS':69,\n",
    "                                                                })"
   ]
  },
  {
   "cell_type": "code",
   "execution_count": 7,
   "metadata": {
    "collapsed": false
   },
   "outputs": [],
   "source": [
    "df['WeekdayNumber'] = df['Weekday'].map({'Sunday':1,\n",
    "                                        'Monday':2,\n",
    "                                        'Tuesday':3,\n",
    "                                        'Wednesday':4,\n",
    "                                        'Thursday':5,\n",
    "                                        'Friday':6,\n",
    "                                        'Saturday':7})"
   ]
  },
  {
   "cell_type": "code",
   "execution_count": 8,
   "metadata": {
    "collapsed": false
   },
   "outputs": [
    {
     "data": {
      "text/plain": [
       "(647054, 7)"
      ]
     },
     "execution_count": 8,
     "metadata": {},
     "output_type": "execute_result"
    }
   ],
   "source": [
    "#wkdy_dummies = np.abs(pd.get_dummies(df['WeekdayNumber'], prefix='wd').multiply(df['ScanCount'], axis ='index'))\n",
    "#wkdy_dummies.shape"
   ]
  },
  {
   "cell_type": "code",
   "execution_count": 9,
   "metadata": {
    "collapsed": false
   },
   "outputs": [
    {
     "data": {
      "text/plain": [
       "(647054, 68)"
      ]
     },
     "execution_count": 9,
     "metadata": {},
     "output_type": "execute_result"
    }
   ],
   "source": [
    "dept_dummies = np.abs(pd.get_dummies(df['DepartmentNumber'], \n",
    "                                     prefix='dept').multiply(df['ScanCount'], axis ='index'))\n",
    "dept_dummies.shape"
   ]
  },
  {
   "cell_type": "code",
   "execution_count": 10,
   "metadata": {
    "collapsed": false
   },
   "outputs": [
    {
     "ename": "MemoryError",
     "evalue": "",
     "output_type": "error",
     "traceback": [
      "\u001b[1;31m---------------------------------------------------------------------------\u001b[0m",
      "\u001b[1;31mMemoryError\u001b[0m                               Traceback (most recent call last)",
      "\u001b[1;32m<ipython-input-10-abab7fe0290c>\u001b[0m in \u001b[0;36m<module>\u001b[1;34m()\u001b[0m\n\u001b[1;32m----> 1\u001b[1;33m \u001b[0mfineline_dummies\u001b[0m \u001b[1;33m=\u001b[0m \u001b[0mpd\u001b[0m\u001b[1;33m.\u001b[0m\u001b[0mget_dummies\u001b[0m\u001b[1;33m(\u001b[0m\u001b[0mdf\u001b[0m\u001b[1;33m[\u001b[0m\u001b[1;34m'FinelineNumber'\u001b[0m\u001b[1;33m]\u001b[0m\u001b[1;33m,\u001b[0m \u001b[0mprefix\u001b[0m\u001b[1;33m=\u001b[0m\u001b[1;34m'fl'\u001b[0m\u001b[1;33m)\u001b[0m\u001b[1;33m\u001b[0m\u001b[0m\n\u001b[0m\u001b[0;32m      2\u001b[0m \u001b[0mfineline_dummies\u001b[0m\u001b[1;33m.\u001b[0m\u001b[0mshape\u001b[0m\u001b[1;33m\u001b[0m\u001b[0m\n",
      "\u001b[1;32mC:\\Users\\sbardelp\\AppData\\Local\\Continuum\\Anaconda\\lib\\site-packages\\pandas\\core\\reshape.pyc\u001b[0m in \u001b[0;36mget_dummies\u001b[1;34m(data, prefix, prefix_sep, dummy_na, columns, sparse)\u001b[0m\n\u001b[0;32m   1072\u001b[0m     \u001b[1;32melse\u001b[0m\u001b[1;33m:\u001b[0m\u001b[1;33m\u001b[0m\u001b[0m\n\u001b[0;32m   1073\u001b[0m         result = _get_dummies_1d(data, prefix, prefix_sep, dummy_na,\n\u001b[1;32m-> 1074\u001b[1;33m                                  sparse=sparse)\n\u001b[0m\u001b[0;32m   1075\u001b[0m     \u001b[1;32mreturn\u001b[0m \u001b[0mresult\u001b[0m\u001b[1;33m\u001b[0m\u001b[0m\n\u001b[0;32m   1076\u001b[0m \u001b[1;33m\u001b[0m\u001b[0m\n",
      "\u001b[1;32mC:\\Users\\sbardelp\\AppData\\Local\\Continuum\\Anaconda\\lib\\site-packages\\pandas\\core\\reshape.pyc\u001b[0m in \u001b[0;36m_get_dummies_1d\u001b[1;34m(data, prefix, prefix_sep, dummy_na, sparse)\u001b[0m\n\u001b[0;32m   1128\u001b[0m \u001b[1;33m\u001b[0m\u001b[0m\n\u001b[0;32m   1129\u001b[0m     \u001b[1;32melse\u001b[0m\u001b[1;33m:\u001b[0m\u001b[1;33m\u001b[0m\u001b[0m\n\u001b[1;32m-> 1130\u001b[1;33m         \u001b[0mdummy_mat\u001b[0m \u001b[1;33m=\u001b[0m \u001b[0mnp\u001b[0m\u001b[1;33m.\u001b[0m\u001b[0meye\u001b[0m\u001b[1;33m(\u001b[0m\u001b[0mnumber_of_cols\u001b[0m\u001b[1;33m)\u001b[0m\u001b[1;33m.\u001b[0m\u001b[0mtake\u001b[0m\u001b[1;33m(\u001b[0m\u001b[0mcodes\u001b[0m\u001b[1;33m,\u001b[0m \u001b[0maxis\u001b[0m\u001b[1;33m=\u001b[0m\u001b[1;36m0\u001b[0m\u001b[1;33m)\u001b[0m\u001b[1;33m\u001b[0m\u001b[0m\n\u001b[0m\u001b[0;32m   1131\u001b[0m \u001b[1;33m\u001b[0m\u001b[0m\n\u001b[0;32m   1132\u001b[0m         \u001b[1;32mif\u001b[0m \u001b[1;32mnot\u001b[0m \u001b[0mdummy_na\u001b[0m\u001b[1;33m:\u001b[0m\u001b[1;33m\u001b[0m\u001b[0m\n",
      "\u001b[1;31mMemoryError\u001b[0m: "
     ]
    }
   ],
   "source": [
    "#fineline_dummies = pd.get_dummies(df['FinelineNumber'], prefix='fl')\n",
    "#fineline_dummies.shape"
   ]
  },
  {
   "cell_type": "code",
   "execution_count": null,
   "metadata": {
    "collapsed": true
   },
   "outputs": [],
   "source": [
    "#upc_dummies = pd.get_dummies(walmart.upc, prefix = 'u')"
   ]
  },
  {
   "cell_type": "code",
   "execution_count": null,
   "metadata": {
    "collapsed": false
   },
   "outputs": [],
   "source": [
    "df = df.drop(['Upc','ScanCount', 'Weekday','DepartmentDescription',\n",
    "              'FinelineNumber','DepartmentNumber','WeekdayNumber'], axis=1)"
   ]
  },
  {
   "cell_type": "code",
   "execution_count": null,
   "metadata": {
    "collapsed": false
   },
   "outputs": [],
   "source": [
    "df.shape"
   ]
  },
  {
   "cell_type": "code",
   "execution_count": null,
   "metadata": {
    "collapsed": false
   },
   "outputs": [],
   "source": [
    "# Concatenate dummy data to walmart dataframe (axis=0 for rows, axis=1 for columns)\n",
    "\n",
    "df = pd.concat([df, wkdy_dummies, dept_dummies, fineline_dummies], axis=1)"
   ]
  },
  {
   "cell_type": "code",
   "execution_count": null,
   "metadata": {
    "collapsed": false
   },
   "outputs": [],
   "source": [
    "df.shape"
   ]
  },
  {
   "cell_type": "code",
   "execution_count": null,
   "metadata": {
    "collapsed": false
   },
   "outputs": [],
   "source": [
    "df.head()"
   ]
  },
  {
   "cell_type": "code",
   "execution_count": null,
   "metadata": {
    "collapsed": false
   },
   "outputs": [],
   "source": [
    "X = walmart.iloc[:, 2:5]\n",
    "y = walmart.TripType\n",
    "print X.shape"
   ]
  },
  {
   "cell_type": "code",
   "execution_count": null,
   "metadata": {
    "collapsed": false
   },
   "outputs": [],
   "source": [
    "# **Step 1:** Import the class you plan to use\n",
    "from sklearn.neighbors import KNeighborsClassifier\n",
    "\n",
    "# **Step 2:** \"Instantiate\" the \"estimator\"\n",
    "# - \"Estimator\" is scikit-learn's term for \"model\"\n",
    "# - \"Instantiate\" means \"make an instance of\"\n",
    "knn = KNeighborsClassifier(n_neighbors=1)\n",
    "\n",
    "# - Name of the object does not matter\n",
    "# - Can specify tuning parameters (aka \"hyperparameters\") during this step\n",
    "# - All parameters not specified are set to their defaults\n",
    "print knn"
   ]
  },
  {
   "cell_type": "code",
   "execution_count": null,
   "metadata": {
    "collapsed": false
   },
   "outputs": [],
   "source": [
    "knn.fit(X, y)"
   ]
  },
  {
   "cell_type": "code",
   "execution_count": null,
   "metadata": {
    "collapsed": true
   },
   "outputs": [],
   "source": []
  }
 ],
 "metadata": {
  "kernelspec": {
   "display_name": "Python 2",
   "language": "python",
   "name": "python2"
  },
  "language_info": {
   "codemirror_mode": {
    "name": "ipython",
    "version": 2
   },
   "file_extension": ".py",
   "mimetype": "text/x-python",
   "name": "python",
   "nbconvert_exporter": "python",
   "pygments_lexer": "ipython2",
   "version": "2.7.10"
  }
 },
 "nbformat": 4,
 "nbformat_minor": 0
}
